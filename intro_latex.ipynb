{
 "cells": [
  {
   "cell_type": "markdown",
   "metadata": {},
   "source": [
    "# LaTeX for Formulas\n",
    "* Pronounced lahtek or laytek.\n",
    "* Render as math formulas.\n",
    "* Must be entered in a **Markdown Cell**.\n",
    "* Formulas start and end with a **$ sign**"
   ]
  },
  {
   "cell_type": "markdown",
   "metadata": {},
   "source": [
    "# Central Tendency\n",
    "## The Mean ($\\mu$)\n",
    "* The mean of a list of numbers is the sum divided by the count.\n",
    "$\n",
    "\\Large \\mu = \\frac{\\Sigma x}{N}\n",
    "$\n",
    "## Variance\n",
    "* Variance indicates how much a set of numbers  is **spread out from the mean**.\n",
    "* A small variance indicates that data values are close to the mean.\n",
    "$\n",
    "\\Large \\sigma^2 = \\frac{\\Sigma (X - \\mu)^2}{N}\n",
    "$"
   ]
  },
  {
   "cell_type": "markdown",
   "metadata": {},
   "source": [
    "# Quadratic Equation Formula\n",
    "$\n",
    "\\Large\n",
    "x=\\frac{-b\\pm\\sqrt{b^2-4ac}}{2a}\n",
    "$"
   ]
  },
  {
   "cell_type": "markdown",
   "metadata": {},
   "source": [
    "# Tables are great for presenting info\n",
    "* **Colons** can control **alignment** of columns."
   ]
  },
  {
   "cell_type": "markdown",
   "metadata": {},
   "source": [
    "| Tables        | Can Be        | Fun & easy |\n",
    "|:------------- |:-------------:| ----------:|\n",
    "| This column is| This column is| This column|\n",
    "| left aligned. | centered. Cool| is right   |\n",
    "| Note colons.  | is it not?    | aligned    |"
   ]
  },
  {
   "cell_type": "markdown",
   "metadata": {},
   "source": [
    "# LaTeX Symbols Page\n",
    "* This cell is NOT LaTeX but...\n",
    "* It shows how **HTML can add a link**.\n",
    "<a href=\"https://www.caam.rice.edu/~heinken/latex/symbols.pdf\">Access LaTeX Symbols Page</a>"
   ]
  },
  {
   "cell_type": "code",
   "execution_count": null,
   "metadata": {},
   "outputs": [],
   "source": []
  }
 ],
 "metadata": {
  "kernelspec": {
   "display_name": "Python 3 (ipykernel)",
   "language": "python",
   "name": "python3"
  },
  "language_info": {
   "codemirror_mode": {
    "name": "ipython",
    "version": 3
   },
   "file_extension": ".py",
   "mimetype": "text/x-python",
   "name": "python",
   "nbconvert_exporter": "python",
   "pygments_lexer": "ipython3",
   "version": "3.8.11"
  }
 },
 "nbformat": 4,
 "nbformat_minor": 4
}
