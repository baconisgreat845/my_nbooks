{
 "cells": [
  {
   "cell_type": "code",
   "execution_count": 4,
   "id": "ae5e3f7f-a5c2-430b-a328-c4db1a40f14c",
   "metadata": {},
   "outputs": [],
   "source": [
    "##Exercise pg.165"
   ]
  },
  {
   "cell_type": "code",
   "execution_count": null,
   "id": "8bc8cf9c-3277-40d8-95e5-64d8cb7aa1d5",
   "metadata": {},
   "outputs": [],
   "source": [
    "import pandas as pd\n",
    "import numpy as np"
   ]
  },
  {
   "cell_type": "code",
   "execution_count": null,
   "id": "4f1da083-5c71-4237-ab6f-22963d33bbc3",
   "metadata": {
    "panel-layout": {
     "height": 27,
     "visible": true,
     "width": 100
    }
   },
   "outputs": [],
   "source": [
    "import seaborn as sns\n",
    "planets = sns.load_dataset('planets')\n",
    "planets.shape"
   ]
  },
  {
   "cell_type": "code",
   "execution_count": null,
   "id": "1a16b8bf-2960-4817-9606-919ad2577afe",
   "metadata": {
    "panel-layout": {
     "height": 173,
     "visible": true,
     "width": 100
    }
   },
   "outputs": [],
   "source": [
    "planets.head()"
   ]
  },
  {
   "cell_type": "code",
   "execution_count": null,
   "id": "8a07d92d-83a6-40c6-a349-e3e99d6eab32",
   "metadata": {
    "panel-layout": {
     "height": 173,
     "visible": true,
     "width": 100
    }
   },
   "outputs": [],
   "source": [
    "rng = np.random.RandomState(42)\n",
    "ser = pd.Series(rng.rand(5))\n",
    "ser"
   ]
  },
  {
   "cell_type": "code",
   "execution_count": null,
   "id": "14ce2f71-503e-4758-874f-7e530888fc1f",
   "metadata": {
    "panel-layout": {
     "height": 27,
     "visible": true,
     "width": 100
    }
   },
   "outputs": [],
   "source": [
    "ser.sum()"
   ]
  },
  {
   "cell_type": "code",
   "execution_count": null,
   "id": "7e43b69d-8b53-41ba-bb11-18d5c2a6bd79",
   "metadata": {
    "panel-layout": {
     "height": 27,
     "visible": true,
     "width": 100
    }
   },
   "outputs": [],
   "source": [
    "ser.mean()"
   ]
  },
  {
   "cell_type": "code",
   "execution_count": null,
   "id": "e578ed2c-04a1-4080-bce7-c89330b0561e",
   "metadata": {
    "panel-layout": {
     "height": 173,
     "visible": true,
     "width": 100
    }
   },
   "outputs": [],
   "source": [
    "df = pd.DataFrame({'A': rng.rand(5),\n",
    "                   'B': rng.rand(5)})\n",
    "df"
   ]
  },
  {
   "cell_type": "code",
   "execution_count": null,
   "id": "dfb89515-69ce-497f-95ce-edb1bb0f3daa",
   "metadata": {
    "panel-layout": {
     "height": 92,
     "visible": true,
     "width": 100
    }
   },
   "outputs": [],
   "source": [
    "df.mean()"
   ]
  },
  {
   "cell_type": "code",
   "execution_count": null,
   "id": "9f7fce0e-b6b8-4e79-9642-b8217a78adbe",
   "metadata": {
    "panel-layout": {
     "height": 173,
     "visible": true,
     "width": 100
    }
   },
   "outputs": [],
   "source": [
    "df.mean(axis='columns')"
   ]
  },
  {
   "cell_type": "code",
   "execution_count": null,
   "id": "ae5bafe4-4c65-404d-b537-b606c8977621",
   "metadata": {
    "panel-layout": {
     "height": 254,
     "visible": true,
     "width": 100
    }
   },
   "outputs": [],
   "source": [
    "planets.dropna().describe()"
   ]
  },
  {
   "cell_type": "code",
   "execution_count": null,
   "id": "630eda53-e702-46b7-b61d-87134e71824f",
   "metadata": {
    "panel-layout": {
     "height": 200,
     "visible": true,
     "width": 100
    }
   },
   "outputs": [],
   "source": [
    "df = pd.DataFrame({'key' : ['A', 'B', 'C', 'A', 'B', 'C'],\n",
    "                      'data': range(6)}, columns=['key', 'data'])\n",
    "df"
   ]
  },
  {
   "cell_type": "code",
   "execution_count": null,
   "id": "7bd7c6ff-6436-4074-a6c6-bb8c8444be4a",
   "metadata": {
    "panel-layout": {
     "height": 10,
     "visible": true,
     "width": 100
    }
   },
   "outputs": [],
   "source": [
    "df.groupby('key')"
   ]
  },
  {
   "cell_type": "code",
   "execution_count": null,
   "id": "e7f5fc0b-7fde-4d3c-8116-37aa39c5fdda",
   "metadata": {
    "panel-layout": {
     "height": 146,
     "visible": true,
     "width": 100
    }
   },
   "outputs": [],
   "source": [
    "df.groupby('key').sum()"
   ]
  },
  {
   "cell_type": "code",
   "execution_count": null,
   "id": "f8ba86aa-9835-435b-9c46-5e408ed8ecea",
   "metadata": {
    "panel-layout": {
     "height": 10,
     "visible": true,
     "width": 100
    }
   },
   "outputs": [],
   "source": [
    "planets.groupby('method')"
   ]
  },
  {
   "cell_type": "code",
   "execution_count": null,
   "id": "5ef62869-dc74-4593-9031-c540c5ba629d",
   "metadata": {
    "panel-layout": {
     "height": 10,
     "visible": true,
     "width": 100
    }
   },
   "outputs": [],
   "source": [
    "planets.groupby('method')['orbital_period']"
   ]
  },
  {
   "cell_type": "code",
   "execution_count": null,
   "id": "02b6a604-e183-4a09-88de-289536488738",
   "metadata": {
    "panel-layout": {
     "height": 335,
     "visible": true,
     "width": 100
    }
   },
   "outputs": [],
   "source": [
    "planets.groupby('method')['orbital_period'].median()"
   ]
  },
  {
   "cell_type": "code",
   "execution_count": null,
   "id": "15b29115-7461-4132-b565-ce3557288582",
   "metadata": {},
   "outputs": [],
   "source": [
    "for (method, group) in planets.groupby('method'):\n",
    "    print(\"{0:30s} shape={1}\".format(method, group.shape))"
   ]
  },
  {
   "cell_type": "code",
   "execution_count": null,
   "id": "8cec396b-130e-449a-a2eb-d1741e1fe03a",
   "metadata": {
    "panel-layout": {
     "height": 2225,
     "visible": true,
     "width": 100
    }
   },
   "outputs": [],
   "source": [
    "planets.groupby('method')['year'].describe().unstack()"
   ]
  },
  {
   "cell_type": "code",
   "execution_count": null,
   "id": "98080180-0d38-4f8e-81ec-b145e12a908e",
   "metadata": {
    "panel-layout": {
     "height": 200,
     "visible": true,
     "width": 100
    }
   },
   "outputs": [],
   "source": [
    "rng = np.random.RandomState(0)\n",
    "df = pd.DataFrame({'key' : ['A', 'B', 'C', 'A', 'B', 'C'],\n",
    "                   'data1' : range(6),\n",
    "                   'data2' : rng.randint(0,10,6)},\n",
    "                  columns = ['key', 'data1', 'data2'])\n",
    "df"
   ]
  },
  {
   "cell_type": "code",
   "execution_count": null,
   "id": "6cfd954a-a292-4ff8-b2a6-9a6e067eb49b",
   "metadata": {
    "panel-layout": {
     "height": 173,
     "visible": true,
     "width": 100
    }
   },
   "outputs": [],
   "source": [
    "df.groupby('key').aggregate(['min', np.median, max])"
   ]
  },
  {
   "cell_type": "code",
   "execution_count": null,
   "id": "476e9400-540a-486e-8d27-ee5a7dbe8734",
   "metadata": {
    "panel-layout": {
     "height": 146,
     "visible": true,
     "width": 100
    }
   },
   "outputs": [],
   "source": [
    "df.groupby('key').aggregate({'data1' : 'min',\n",
    "                             'data2' : 'max'})"
   ]
  },
  {
   "cell_type": "code",
   "execution_count": null,
   "id": "f83da575-39a8-4246-8631-9010e3462eef",
   "metadata": {
    "panel-layout": {
     "height": 200,
     "visible": true,
     "width": 100
    }
   },
   "outputs": [],
   "source": [
    "def filter_func(x):\n",
    "    return x['data2'].std()>4\n",
    "\n",
    "print(df); print(df.groupby('key').std());\n",
    "print(df.groupby('key').filter(filter_func))\n",
    "\n",
    "df"
   ]
  },
  {
   "cell_type": "code",
   "execution_count": null,
   "id": "39453ea3-fc95-4059-9625-a51a251477c6",
   "metadata": {
    "panel-layout": {
     "height": 200,
     "visible": true,
     "width": 100
    }
   },
   "outputs": [],
   "source": [
    "df.groupby('key').transform(lambda x:x - x.mean())"
   ]
  },
  {
   "cell_type": "code",
   "execution_count": null,
   "id": "c2095654-3fde-4c8a-a969-8d64ecbc5fae",
   "metadata": {},
   "outputs": [],
   "source": [
    "def norm_by_data2(x):\n",
    "    #x is a DataFrame of group values\n",
    "    x['data1']/=x['data2'].sum()\n",
    "    return x\n",
    "\n",
    "print(df); print(df.groupby('key').apply(norm_by_data2))"
   ]
  },
  {
   "cell_type": "code",
   "execution_count": null,
   "id": "d31700a8-f2c7-4a2a-be8e-30b6f079af06",
   "metadata": {
    "panel-layout": {
     "height": 0,
     "visible": true,
     "width": 100
    }
   },
   "outputs": [],
   "source": [
    "L = [0, 1, 0, 1, 2, 0]\n",
    "print(df); \n",
    "print()\n",
    "print(df.groupby(L).sum())"
   ]
  },
  {
   "cell_type": "code",
   "execution_count": null,
   "id": "337e9aa2-6cd3-47b3-b032-20ebc504dc6f",
   "metadata": {
    "panel-layout": {
     "height": 0,
     "visible": true,
     "width": 100
    }
   },
   "outputs": [],
   "source": [
    "print(df)\n",
    "print()\n",
    "print(df.groupby(L).sum())"
   ]
  },
  {
   "cell_type": "code",
   "execution_count": null,
   "id": "23b4a86f-221c-4579-935e-666ce87fe4ed",
   "metadata": {},
   "outputs": [],
   "source": [
    "df2 = df.set_index('key')\n",
    "mapping = {'A': 'vowel', 'B': 'consonant', 'C': 'consonant'}\n",
    "print(df2); print(); print(df2.groupby(mapping).sum())"
   ]
  },
  {
   "cell_type": "code",
   "execution_count": null,
   "id": "2862531b-e610-43d1-9b5c-7c6241f8dae1",
   "metadata": {},
   "outputs": [],
   "source": [
    "print(df2); print(df2.groupby(str.lower).mean())"
   ]
  },
  {
   "cell_type": "code",
   "execution_count": null,
   "id": "947b0f2a-cece-42a7-8b3b-9a43f8eee900",
   "metadata": {
    "panel-layout": {
     "height": 146,
     "visible": true,
     "width": 100
    }
   },
   "outputs": [],
   "source": [
    "df2.groupby([str.lower, mapping]).mean()"
   ]
  },
  {
   "cell_type": "code",
   "execution_count": null,
   "id": "1ea0fe20-c7ae-4d2c-8b94-6eda84774282",
   "metadata": {
    "panel-layout": {
     "height": 335,
     "visible": true,
     "width": 100
    }
   },
   "outputs": [],
   "source": [
    "decade = 10 * (planets['year']//10)\n",
    "decade = decade.astype(str) + 's'\n",
    "decade.name = 'decade'\n",
    "planets.groupby(['method', decade])['number'].sum().unstack().fillna(0)"
   ]
  },
  {
   "cell_type": "code",
   "execution_count": null,
   "id": "c4fb2ef2-8e2d-4d5b-ac81-fd3716d158d4",
   "metadata": {},
   "outputs": [],
   "source": []
  }
 ],
 "metadata": {
  "kernelspec": {
   "display_name": "Python 3 (ipykernel)",
   "language": "python",
   "name": "python3"
  },
  "language_info": {
   "codemirror_mode": {
    "name": "ipython",
    "version": 3
   },
   "file_extension": ".py",
   "mimetype": "text/x-python",
   "name": "python",
   "nbconvert_exporter": "python",
   "pygments_lexer": "ipython3",
   "version": "3.12.4"
  },
  "panel-cell-order": [
   "4f1da083-5c71-4237-ab6f-22963d33bbc3",
   "1a16b8bf-2960-4817-9606-919ad2577afe",
   "8a07d92d-83a6-40c6-a349-e3e99d6eab32",
   "14ce2f71-503e-4758-874f-7e530888fc1f",
   "7e43b69d-8b53-41ba-bb11-18d5c2a6bd79",
   "e578ed2c-04a1-4080-bce7-c89330b0561e",
   "dfb89515-69ce-497f-95ce-edb1bb0f3daa",
   "9f7fce0e-b6b8-4e79-9642-b8217a78adbe",
   "ae5bafe4-4c65-404d-b537-b606c8977621",
   "630eda53-e702-46b7-b61d-87134e71824f",
   "7bd7c6ff-6436-4074-a6c6-bb8c8444be4a",
   "e7f5fc0b-7fde-4d3c-8116-37aa39c5fdda",
   "f8ba86aa-9835-435b-9c46-5e408ed8ecea",
   "5ef62869-dc74-4593-9031-c540c5ba629d",
   "02b6a604-e183-4a09-88de-289536488738",
   "8cec396b-130e-449a-a2eb-d1741e1fe03a",
   "98080180-0d38-4f8e-81ec-b145e12a908e",
   "6cfd954a-a292-4ff8-b2a6-9a6e067eb49b",
   "476e9400-540a-486e-8d27-ee5a7dbe8734",
   "f83da575-39a8-4246-8631-9010e3462eef",
   "39453ea3-fc95-4059-9625-a51a251477c6",
   "d31700a8-f2c7-4a2a-be8e-30b6f079af06",
   "337e9aa2-6cd3-47b3-b032-20ebc504dc6f",
   "947b0f2a-cece-42a7-8b3b-9a43f8eee900",
   "1ea0fe20-c7ae-4d2c-8b94-6eda84774282"
  ]
 },
 "nbformat": 4,
 "nbformat_minor": 5
}
