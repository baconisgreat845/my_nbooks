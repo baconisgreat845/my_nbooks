{
 "cells": [
  {
   "cell_type": "markdown",
   "id": "cf231d78-ad29-4c3b-85ce-8283803d7886",
   "metadata": {
    "panel-layout": {
     "height": 60.3125,
     "visible": true,
     "width": 100
    }
   },
   "source": [
    "# Rudd_Intro Notebook"
   ]
  },
  {
   "cell_type": "markdown",
   "id": "09dbd1bf-3220-4ea8-a36d-0830813540d6",
   "metadata": {
    "panel-layout": {
     "height": 50.09375,
     "visible": true,
     "width": 100
    }
   },
   "source": [
    "## Hakan Rudd"
   ]
  },
  {
   "cell_type": "code",
   "execution_count": 2,
   "id": "965c9994-f9a4-46f0-866c-ac8fe767db64",
   "metadata": {},
   "outputs": [],
   "source": [
    "import random\n",
    "nums = [random.randint(30, 100) for x in range(40)]"
   ]
  },
  {
   "cell_type": "code",
   "execution_count": 4,
   "id": "36b4e39c-abc0-40ad-aefd-9a83516d0a5d",
   "metadata": {},
   "outputs": [
    {
     "data": {
      "text/plain": [
       "31"
      ]
     },
     "metadata": {},
     "output_type": "display_data"
    },
    {
     "data": {
      "text/plain": [
       "31"
      ]
     },
     "metadata": {},
     "output_type": "display_data"
    },
    {
     "data": {
      "text/plain": [
       "32"
      ]
     },
     "metadata": {},
     "output_type": "display_data"
    },
    {
     "data": {
      "text/plain": [
       "40"
      ]
     },
     "metadata": {},
     "output_type": "display_data"
    },
    {
     "data": {
      "text/plain": [
       "41"
      ]
     },
     "metadata": {},
     "output_type": "display_data"
    },
    {
     "data": {
      "text/plain": [
       "42"
      ]
     },
     "metadata": {},
     "output_type": "display_data"
    },
    {
     "data": {
      "text/plain": [
       "44"
      ]
     },
     "metadata": {},
     "output_type": "display_data"
    },
    {
     "data": {
      "text/plain": [
       "47"
      ]
     },
     "metadata": {},
     "output_type": "display_data"
    },
    {
     "data": {
      "text/plain": [
       "47"
      ]
     },
     "metadata": {},
     "output_type": "display_data"
    },
    {
     "data": {
      "text/plain": [
       "48"
      ]
     },
     "metadata": {},
     "output_type": "display_data"
    },
    {
     "data": {
      "text/plain": [
       "49"
      ]
     },
     "metadata": {},
     "output_type": "display_data"
    },
    {
     "data": {
      "text/plain": [
       "50"
      ]
     },
     "metadata": {},
     "output_type": "display_data"
    },
    {
     "data": {
      "text/plain": [
       "55"
      ]
     },
     "metadata": {},
     "output_type": "display_data"
    },
    {
     "data": {
      "text/plain": [
       "55"
      ]
     },
     "metadata": {},
     "output_type": "display_data"
    },
    {
     "data": {
      "text/plain": [
       "55"
      ]
     },
     "metadata": {},
     "output_type": "display_data"
    },
    {
     "data": {
      "text/plain": [
       "57"
      ]
     },
     "metadata": {},
     "output_type": "display_data"
    },
    {
     "data": {
      "text/plain": [
       "60"
      ]
     },
     "metadata": {},
     "output_type": "display_data"
    },
    {
     "data": {
      "text/plain": [
       "60"
      ]
     },
     "metadata": {},
     "output_type": "display_data"
    },
    {
     "data": {
      "text/plain": [
       "63"
      ]
     },
     "metadata": {},
     "output_type": "display_data"
    },
    {
     "data": {
      "text/plain": [
       "65"
      ]
     },
     "metadata": {},
     "output_type": "display_data"
    },
    {
     "data": {
      "text/plain": [
       "67"
      ]
     },
     "metadata": {},
     "output_type": "display_data"
    },
    {
     "data": {
      "text/plain": [
       "70"
      ]
     },
     "metadata": {},
     "output_type": "display_data"
    },
    {
     "data": {
      "text/plain": [
       "72"
      ]
     },
     "metadata": {},
     "output_type": "display_data"
    },
    {
     "data": {
      "text/plain": [
       "73"
      ]
     },
     "metadata": {},
     "output_type": "display_data"
    },
    {
     "data": {
      "text/plain": [
       "75"
      ]
     },
     "metadata": {},
     "output_type": "display_data"
    },
    {
     "data": {
      "text/plain": [
       "76"
      ]
     },
     "metadata": {},
     "output_type": "display_data"
    },
    {
     "data": {
      "text/plain": [
       "76"
      ]
     },
     "metadata": {},
     "output_type": "display_data"
    },
    {
     "data": {
      "text/plain": [
       "83"
      ]
     },
     "metadata": {},
     "output_type": "display_data"
    },
    {
     "data": {
      "text/plain": [
       "85"
      ]
     },
     "metadata": {},
     "output_type": "display_data"
    },
    {
     "data": {
      "text/plain": [
       "88"
      ]
     },
     "metadata": {},
     "output_type": "display_data"
    },
    {
     "data": {
      "text/plain": [
       "88"
      ]
     },
     "metadata": {},
     "output_type": "display_data"
    },
    {
     "data": {
      "text/plain": [
       "89"
      ]
     },
     "metadata": {},
     "output_type": "display_data"
    },
    {
     "data": {
      "text/plain": [
       "89"
      ]
     },
     "metadata": {},
     "output_type": "display_data"
    },
    {
     "data": {
      "text/plain": [
       "89"
      ]
     },
     "metadata": {},
     "output_type": "display_data"
    },
    {
     "data": {
      "text/plain": [
       "89"
      ]
     },
     "metadata": {},
     "output_type": "display_data"
    },
    {
     "data": {
      "text/plain": [
       "94"
      ]
     },
     "metadata": {},
     "output_type": "display_data"
    },
    {
     "data": {
      "text/plain": [
       "96"
      ]
     },
     "metadata": {},
     "output_type": "display_data"
    },
    {
     "data": {
      "text/plain": [
       "97"
      ]
     },
     "metadata": {},
     "output_type": "display_data"
    },
    {
     "data": {
      "text/plain": [
       "98"
      ]
     },
     "metadata": {},
     "output_type": "display_data"
    },
    {
     "data": {
      "text/plain": [
       "98"
      ]
     },
     "metadata": {},
     "output_type": "display_data"
    }
   ],
   "source": [
    "nums.sort(reverse = False)\n",
    "for x in nums:\n",
    "  display(x)\n",
    "  "
   ]
  },
  {
   "cell_type": "markdown",
   "id": "96f82bb7-1717-4d17-a0c2-ed144b3283c5",
   "metadata": {
    "panel-layout": {
     "height": 100.828125,
     "visible": true,
     "width": 100
    }
   },
   "source": [
    "## The Sample Mean\n",
    "- Sums up all the integers\n",
    "- Divides the sum by the amount of integers"
   ]
  },
  {
   "cell_type": "markdown",
   "id": "a3f9bab2-e600-4b20-8125-aed0e1534455",
   "metadata": {
    "panel-layout": {
     "height": 51,
     "visible": true,
     "width": 100
    }
   },
   "source": [
    "$$\\bar{x} = \\frac{\\sum x_i}{n}$$"
   ]
  },
  {
   "cell_type": "code",
   "execution_count": 8,
   "id": "67176cf6-6392-4256-8aca-ff244ada9e35",
   "metadata": {
    "panel-layout": {
     "height": 1131,
     "visible": true,
     "width": 100
    }
   },
   "outputs": [
    {
     "data": {
      "text/plain": [
       "'The mean of the list is 66.60.'"
      ]
     },
     "metadata": {},
     "output_type": "display_data"
    }
   ],
   "source": [
    "mean = sum(nums) / 40\n",
    "mean_string = f\"The mean of the list is {mean:.2f}.\"\n",
    "display(mean_string)\n"
   ]
  },
  {
   "cell_type": "markdown",
   "id": "d7af4afc-bd7b-4755-8bfa-e6ab1e484097",
   "metadata": {
    "panel-layout": {
     "height": 83.546875,
     "visible": true,
     "width": 100
    }
   },
   "source": [
    "## The Median\n",
    "[Statistical Definition of Median](https://www.investopedia.com/terms/m/median.asp)"
   ]
  },
  {
   "cell_type": "code",
   "execution_count": 11,
   "id": "4a59b3b7-791b-4f65-b24a-98eb54e1f02f",
   "metadata": {},
   "outputs": [],
   "source": [
    "#Calculate the median of even numbered data sets\n",
    "#1. Divide the amount of terms in the data set by two\n",
    "#2. Use that number and the same number plus one. \n",
    "#3. Find the corresponding two numbers\n",
    "#4. Take the mean of the two numbers\n"
   ]
  },
  {
   "cell_type": "code",
   "execution_count": 32,
   "id": "9bc4d8f5-5e76-4233-951a-393fe1499083",
   "metadata": {
    "panel-layout": {
     "height": 51,
     "visible": true,
     "width": 100
    }
   },
   "outputs": [
    {
     "data": {
      "text/plain": [
       "'The median of the list is 68.5'"
      ]
     },
     "metadata": {},
     "output_type": "display_data"
    }
   ],
   "source": [
    "median_terms = [nums[len(nums)//2] , nums[len(nums)//2+1]] \n",
    "median = sum(median_terms)/2\n",
    "median_string = f\"The median of the list is {median:.1f}\"\n",
    "display(median_string)"
   ]
  },
  {
   "cell_type": "code",
   "execution_count": null,
   "id": "aae06af0-b448-4c33-bf3b-70affa4a1cc8",
   "metadata": {},
   "outputs": [],
   "source": []
  },
  {
   "cell_type": "code",
   "execution_count": null,
   "id": "310d5d3e-606d-4359-8224-af07f23b2f92",
   "metadata": {},
   "outputs": [],
   "source": []
  },
  {
   "cell_type": "code",
   "execution_count": null,
   "id": "b05a05a8-eeaf-442f-851c-090f69e2e27b",
   "metadata": {},
   "outputs": [],
   "source": []
  },
  {
   "cell_type": "code",
   "execution_count": null,
   "id": "7539fc34-238c-48e1-9f51-521cd3077b30",
   "metadata": {},
   "outputs": [],
   "source": []
  }
 ],
 "metadata": {
  "kernelspec": {
   "display_name": "Python 3 (ipykernel)",
   "language": "python",
   "name": "python3"
  },
  "language_info": {
   "codemirror_mode": {
    "name": "ipython",
    "version": 3
   },
   "file_extension": ".py",
   "mimetype": "text/x-python",
   "name": "python",
   "nbconvert_exporter": "python",
   "pygments_lexer": "ipython3",
   "version": "3.12.4"
  },
  "panel-cell-order": [
   "cf231d78-ad29-4c3b-85ce-8283803d7886",
   "09dbd1bf-3220-4ea8-a36d-0830813540d6",
   "96f82bb7-1717-4d17-a0c2-ed144b3283c5",
   "a3f9bab2-e600-4b20-8125-aed0e1534455",
   "67176cf6-6392-4256-8aca-ff244ada9e35",
   "d7af4afc-bd7b-4755-8bfa-e6ab1e484097",
   "9bc4d8f5-5e76-4233-951a-393fe1499083"
  ]
 },
 "nbformat": 4,
 "nbformat_minor": 5
}
