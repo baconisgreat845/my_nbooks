{
 "cells": [
  {
   "cell_type": "code",
   "execution_count": null,
   "id": "4c447427-00d6-4167-b041-3f3c18250518",
   "metadata": {},
   "outputs": [],
   "source": [
    "import pandas as pd\n",
    "import numpy as np"
   ]
  },
  {
   "cell_type": "code",
   "execution_count": null,
   "id": "c52408ae-4e4c-44ec-80d9-5ceea062fe33",
   "metadata": {
    "panel-layout": {
     "height": 146,
     "visible": true,
     "width": 100
    }
   },
   "outputs": [],
   "source": [
    "rng = np.random.RandomState(42)\n",
    "ser = pd.Series(rng.randint(0, 10, 4))\n",
    "ser"
   ]
  },
  {
   "cell_type": "code",
   "execution_count": null,
   "id": "d827ba68-4f60-4323-80a1-71865934367c",
   "metadata": {
    "panel-layout": {
     "height": 119,
     "visible": true,
     "width": 100
    }
   },
   "outputs": [],
   "source": [
    "df = pd.DataFrame(rng.randint(0,10,(3,4)),\n",
    "                  columns=['A','B','C','D'])\n",
    "df"
   ]
  },
  {
   "cell_type": "code",
   "execution_count": null,
   "id": "cfb7b781-99ee-40b8-b896-53219e57ac94",
   "metadata": {
    "panel-layout": {
     "height": 146,
     "visible": true,
     "width": 100
    }
   },
   "outputs": [],
   "source": [
    "np.exp(ser)"
   ]
  },
  {
   "cell_type": "code",
   "execution_count": null,
   "id": "60901cd6-74cc-43af-8bd8-8ccbd29d04ee",
   "metadata": {
    "panel-layout": {
     "height": 119,
     "visible": true,
     "width": 100
    }
   },
   "outputs": [],
   "source": [
    "np.sin(df * np.pi / 4)"
   ]
  },
  {
   "cell_type": "code",
   "execution_count": null,
   "id": "0e5c83c8-a12a-4b01-9ce0-3fc0cb30d2cb",
   "metadata": {},
   "outputs": [],
   "source": [
    "area = pd.Series({'Alaska':1723337, 'Texas':695662, \n",
    "                  'California':423967}, name = 'area')\n",
    "population = pd.Series({'California':38332521, 'Texas':26448193,\n",
    "                        'New York': 19651127}, name = 'pouplation')              "
   ]
  },
  {
   "cell_type": "code",
   "execution_count": null,
   "id": "84f3e138-e30f-486a-b2e7-5606a4533528",
   "metadata": {
    "panel-layout": {
     "height": 146,
     "visible": true,
     "width": 100
    }
   },
   "outputs": [],
   "source": [
    "population/area"
   ]
  },
  {
   "cell_type": "code",
   "execution_count": null,
   "id": "6d55a7f8-75b7-436e-9280-2a1c07d4dced",
   "metadata": {
    "panel-layout": {
     "height": 146,
     "visible": true,
     "width": 100
    }
   },
   "outputs": [],
   "source": [
    "A = pd.Series([2,4,6], index=[0,1,2])\n",
    "B = pd.Series([1,3,5], index=[1,2,3])\n",
    "A + B"
   ]
  },
  {
   "cell_type": "code",
   "execution_count": null,
   "id": "b68faee3-05e1-4dfd-8a78-4b91a8c5019c",
   "metadata": {
    "panel-layout": {
     "height": 146,
     "visible": true,
     "width": 100
    }
   },
   "outputs": [],
   "source": [
    "A.add(B, fill_value=0)"
   ]
  },
  {
   "cell_type": "code",
   "execution_count": null,
   "id": "2b8cf2f7-0358-42a8-98b3-e0fa51a2f7a2",
   "metadata": {
    "panel-layout": {
     "height": 92,
     "visible": true,
     "width": 100
    }
   },
   "outputs": [],
   "source": [
    "A = pd.DataFrame(rng.randint(0,20,(2,2)),\n",
    "                 columns=list('AB'))\n",
    "A"
   ]
  },
  {
   "cell_type": "code",
   "execution_count": null,
   "id": "f09c8e96-d955-4f85-8054-5e3eece511a1",
   "metadata": {
    "panel-layout": {
     "height": 119,
     "visible": true,
     "width": 100
    }
   },
   "outputs": [],
   "source": [
    "B = pd.DataFrame(rng.randint(0,10,(3,3)),\n",
    "                 columns=list('BAC'))\n",
    "B"
   ]
  },
  {
   "cell_type": "code",
   "execution_count": null,
   "id": "0e144b89-b47e-48ef-85c4-fdd9f6144b64",
   "metadata": {
    "panel-layout": {
     "height": 119,
     "visible": true,
     "width": 100
    }
   },
   "outputs": [],
   "source": [
    "A+B"
   ]
  },
  {
   "cell_type": "code",
   "execution_count": null,
   "id": "858cf002-b5d8-4224-8ceb-5499b013684f",
   "metadata": {
    "panel-layout": {
     "height": 119,
     "visible": true,
     "width": 100
    }
   },
   "outputs": [],
   "source": [
    "fill = A.stack().mean()\n",
    "A.add(B, fill_value=fill)"
   ]
  },
  {
   "cell_type": "code",
   "execution_count": null,
   "id": "46a03de4-1f01-4b51-8b3a-ee8b230c8faa",
   "metadata": {
    "panel-layout": {
     "height": 61,
     "visible": true,
     "width": 100
    }
   },
   "outputs": [],
   "source": [
    "A = rng.randint(10,size=(3,4))\n",
    "A"
   ]
  },
  {
   "cell_type": "code",
   "execution_count": null,
   "id": "5dd17467-f741-49a5-bc98-501bb78c42f4",
   "metadata": {
    "panel-layout": {
     "height": 61,
     "visible": true,
     "width": 100
    }
   },
   "outputs": [],
   "source": [
    "A-A[0]"
   ]
  },
  {
   "cell_type": "code",
   "execution_count": null,
   "id": "196725ec-441d-4c73-a474-ee950a430a8c",
   "metadata": {
    "panel-layout": {
     "height": 119,
     "visible": true,
     "width": 100
    }
   },
   "outputs": [],
   "source": [
    "df = pd.DataFrame(A, columns=list('QRST'))\n",
    "df - df.iloc[0]"
   ]
  },
  {
   "cell_type": "code",
   "execution_count": null,
   "id": "f7e4c8a3-b2f2-4a92-871b-e197a034b645",
   "metadata": {
    "panel-layout": {
     "height": 119,
     "visible": true,
     "width": 100
    }
   },
   "outputs": [],
   "source": [
    "df.subtract(df['R'], axis=0)"
   ]
  },
  {
   "cell_type": "code",
   "execution_count": null,
   "id": "654546c3-a9ef-4ca6-ba77-b0093f8dc314",
   "metadata": {
    "panel-layout": {
     "height": 92,
     "visible": true,
     "width": 100
    }
   },
   "outputs": [],
   "source": [
    "halfrow = df.iloc[0, ::2]\n",
    "halfrow"
   ]
  },
  {
   "cell_type": "code",
   "execution_count": null,
   "id": "19bb6529-bf0f-4d83-846d-96f8795a2f92",
   "metadata": {
    "panel-layout": {
     "height": 119,
     "visible": true,
     "width": 100
    }
   },
   "outputs": [],
   "source": [
    "df- halfrow"
   ]
  },
  {
   "cell_type": "code",
   "execution_count": null,
   "id": "ed0fb5b3-5b91-44c5-8293-a09ab4fe56cd",
   "metadata": {},
   "outputs": [],
   "source": []
  }
 ],
 "metadata": {
  "kernelspec": {
   "display_name": "Python 3 (ipykernel)",
   "language": "python",
   "name": "python3"
  },
  "language_info": {
   "codemirror_mode": {
    "name": "ipython",
    "version": 3
   },
   "file_extension": ".py",
   "mimetype": "text/x-python",
   "name": "python",
   "nbconvert_exporter": "python",
   "pygments_lexer": "ipython3",
   "version": "3.12.4"
  },
  "panel-cell-order": [
   "c52408ae-4e4c-44ec-80d9-5ceea062fe33",
   "d827ba68-4f60-4323-80a1-71865934367c",
   "cfb7b781-99ee-40b8-b896-53219e57ac94",
   "60901cd6-74cc-43af-8bd8-8ccbd29d04ee",
   "84f3e138-e30f-486a-b2e7-5606a4533528",
   "6d55a7f8-75b7-436e-9280-2a1c07d4dced",
   "b68faee3-05e1-4dfd-8a78-4b91a8c5019c",
   "2b8cf2f7-0358-42a8-98b3-e0fa51a2f7a2",
   "f09c8e96-d955-4f85-8054-5e3eece511a1",
   "0e144b89-b47e-48ef-85c4-fdd9f6144b64",
   "858cf002-b5d8-4224-8ceb-5499b013684f",
   "46a03de4-1f01-4b51-8b3a-ee8b230c8faa",
   "5dd17467-f741-49a5-bc98-501bb78c42f4",
   "196725ec-441d-4c73-a474-ee950a430a8c",
   "f7e4c8a3-b2f2-4a92-871b-e197a034b645",
   "654546c3-a9ef-4ca6-ba77-b0093f8dc314",
   "19bb6529-bf0f-4d83-846d-96f8795a2f92"
  ]
 },
 "nbformat": 4,
 "nbformat_minor": 5
}
